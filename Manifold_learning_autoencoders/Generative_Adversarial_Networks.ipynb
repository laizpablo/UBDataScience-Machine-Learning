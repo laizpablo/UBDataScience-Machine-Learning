{
 "cells": [
  {
   "cell_type": "markdown",
   "metadata": {},
   "source": [
    "# Generative Adversarial Networks\n",
    "\n",
    "### Pablo Laiz Treceño"
   ]
  },
  {
   "cell_type": "markdown",
   "metadata": {},
   "source": [
    "The best way to understand this kind of network is think that there are two models and they fight against each other to have a better performance.\n",
    "\n",
    "In fact, Yann LeCun said that this idea was \"The most interesting idea in the last 10 years in machine learning.\"\n",
    "\n",
    "**Generative adversarial Networks (GAN)** is a neural network build by two different networks together used on unsupervised learning.\n",
    "\n",
    "This combination can consist in any kind of network, but often is a combination of Fully Connected and Convolutional Networks.\n",
    "\n",
    "Each network has a different task:\n",
    "- **Generative network**: the task associated is to generate content.\n",
    "- **Discrimanting network**: the task is to judge content generated.\n",
    "\n",
    "In other words, the discriminating network receives the generated content or data from the generative network. \n",
    "\n",
    "<img src=\"gan.png\">\n",
    "\n",
    "The idea behind is to use the ability of the discriminating network to correctly predict the data soruce (real or created) is then used as the error for the generating network.\n",
    "\n",
    "This fact produce that the networks compete, where the discriminator is getting better at distinguishing real data from non-real data. And the generator is learning to falsify better the data.\n",
    "\n",
    "This kind of network can be difficult to train, because we have two networks to train with their own problems."
   ]
  },
  {
   "cell_type": "markdown",
   "metadata": {},
   "source": [
    "The original paper was published in 2014 with the title *Generative Adversarial Nets*:\n",
    "https://arxiv.org/pdf/1406.2661v1.pdf"
   ]
  },
  {
   "cell_type": "markdown",
   "metadata": {},
   "source": [
    "In the next github URL we can find and implementation of this network. \n",
    "\n",
    "In this case, they use this network to solve the MNIST problem.\n",
    "\n",
    "https://github.com/znxlwm/tensorflow-MNIST-GAN-DCGAN"
   ]
  },
  {
   "cell_type": "code",
   "execution_count": null,
   "metadata": {
    "collapsed": true
   },
   "outputs": [],
   "source": []
  }
 ],
 "metadata": {
  "kernelspec": {
   "display_name": "Python 3",
   "language": "python",
   "name": "python3"
  },
  "language_info": {
   "codemirror_mode": {
    "name": "ipython",
    "version": 3
   },
   "file_extension": ".py",
   "mimetype": "text/x-python",
   "name": "python",
   "nbconvert_exporter": "python",
   "pygments_lexer": "ipython3",
   "version": "3.6.1"
  }
 },
 "nbformat": 4,
 "nbformat_minor": 2
}
