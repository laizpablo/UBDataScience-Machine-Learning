{
 "cells": [
  {
   "cell_type": "markdown",
   "metadata": {},
   "source": [
    "# Convolutional Neural Networks"
   ]
  },
  {
   "cell_type": "markdown",
   "metadata": {},
   "source": [
    "Convolutional Neural Networks (CNN or DCNN) are mostly used for image processing, but can also be used with different input, like audio. (A know example is WaveNet, an amazing Google Paper).\n",
    "\n",
    "The traditional use of CNN is when you feed the network with images and the networks tries to classify the data. For example, in different objects, animals, ...\n",
    "\n",
    "A convolution layer is a biologically inspired layer which performs the operation, it name implies, a convolution over the image.\n",
    "\n",
    "Each convolution is performed by sliding a kernel over the image and computing the multiplication of its elements by the image on each pixel.\n",
    "\n",
    "The big difference with traditional conventional algorithm is that now, the neural network learns the kernel to produce the best output.\n",
    "\n",
    "<img src=\"CNN.bmp\">"
   ]
  },
  {
   "cell_type": "markdown",
   "metadata": {},
   "source": [
    "Using convolutions we obtain things that with fully connected layers we don't, like:\n",
    "- We keep the partial properties of the images along the layers.\n",
    "- We can find textures and boundaries on the images.\n",
    "\n",
    "But the main advantage is the reduction of parameters that the network has to learn, because the number of parameters is equal to the kernel size."
   ]
  },
  {
   "cell_type": "markdown",
   "metadata": {},
   "source": [
    "When we work with huge image, we can insert in the network **Pooling Layer**.\n",
    "This type of layers reduces the image in a non-lineal way and decrease the number of parameters needed to train the network.\n",
    "\n",
    "For apply pooling, we divide the image in small rectangles (normally 2x2) and we compute the maximum, minimum, mean of these pixels.\n",
    "\n",
    "<img src=\"pooling.bmp\">"
   ]
  },
  {
   "cell_type": "markdown",
   "metadata": {},
   "source": [
    "The most know architecture using conventional layers and pooling ( or subsampling) layers is LeNet, that classifies handwritten digits.\n",
    "\n",
    "<img src=\"lenet.bmp\">"
   ]
  },
  {
   "cell_type": "code",
   "execution_count": null,
   "metadata": {
    "collapsed": true
   },
   "outputs": [],
   "source": []
  }
 ],
 "metadata": {
  "kernelspec": {
   "display_name": "Python 3",
   "language": "python",
   "name": "python3"
  },
  "language_info": {
   "codemirror_mode": {
    "name": "ipython",
    "version": 3
   },
   "file_extension": ".py",
   "mimetype": "text/x-python",
   "name": "python",
   "nbconvert_exporter": "python",
   "pygments_lexer": "ipython3",
   "version": "3.6.1"
  }
 },
 "nbformat": 4,
 "nbformat_minor": 2
}
