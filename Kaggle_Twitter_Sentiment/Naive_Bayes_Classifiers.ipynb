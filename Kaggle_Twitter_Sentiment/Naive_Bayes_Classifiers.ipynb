{
 "cells": [
  {
   "cell_type": "markdown",
   "metadata": {},
   "source": [
    "# Sentiment analysis using nltk nlp library\n",
    "\n",
    "We used a Bernoulli Naive Bayes classifier on a bag of words representation of the tweets, and including bigrams. As preprocessing, we excluded all stopwords and punctuation, but included token words to signal whether the tweet had characteristics such as questions or interrogations."
   ]
  },
  {
   "cell_type": "code",
   "execution_count": 1,
   "metadata": {
    "collapsed": true
   },
   "outputs": [],
   "source": [
    "#imports\n",
    "import pandas as pd\n",
    "import numpy as np\n",
    "from sklearn import model_selection\n",
    "from nltk.classify import NaiveBayesClassifier\n",
    "from nltk.classify.util import accuracy\n",
    "from nltk import corpus\n",
    "from nltk import word_tokenize\n",
    "import re"
   ]
  },
  {
   "cell_type": "code",
   "execution_count": 2,
   "metadata": {
    "collapsed": true
   },
   "outputs": [],
   "source": [
    "stopwords = set(corpus.stopwords.words('english'))\n",
    "#stopwords"
   ]
  },
  {
   "cell_type": "code",
   "execution_count": 3,
   "metadata": {
    "collapsed": true
   },
   "outputs": [],
   "source": [
    "def bigrams(text):\n",
    "    bigrams = []\n",
    "    \n",
    "    #use airline separately\n",
    "    #bigrams.append(text.split(' ',1)[0])\n",
    "    #text = text.split(' ',1)[1]\n",
    "    \n",
    "    #if re.search('\\!', text)!=None: bigrams.append(\"hasExclamation\")\n",
    "    #if re.search('\\?', text)!=None: bigrams.append(\"hasQuestion\")\n",
    "    #if re.search('\\!{2,}', text)!=None: bigrams.append(\"hasMultipleExclamation\")\n",
    "    #if re.search('\\?{2,}', text)!=None: bigrams.append(\"hasMultipleQuestion\")\n",
    "    text = re.sub('\\!+', \" exclamationCode \", text) #make ! a word\n",
    "    text = re.sub('\\?+', \" questionCode \", text) #make ? a word\n",
    "    text = re.sub('\\.+', \" dotCode \", text) #make . a word\n",
    "    #text = re.sub('\\!', \"\", text) #remove !\n",
    "    #text = re.sub('\\?', \"\", text) #remove ?\n",
    "    #text = re.sub(r'@\\w*\\b', \"\", text) #remove mentions\n",
    "    #text = re.sub(r'@\\w*\\b', \"@someone \", text) #make mentions anonymous\n",
    "    #text = re.sub(r'#\\w*\\b', \"hasHashtag \", text) #unify hashtags\n",
    "    text = re.sub(',', \" \", text) #remove ,\n",
    "\n",
    "    i=-1\n",
    "    \n",
    "    #words = text.lower().split()\n",
    "    \n",
    "    #words = [i for i in word_tokenize(text.lower()) if i not in stopwords] #remove stopwords\n",
    "    \n",
    "    STOP_TYPES = ['CC','AT']\n",
    "    tokens = nltk.pos_tag(nltk.word_tokenize(text.lower()))\n",
    "    words = [w for w, wtype in tokens if wtype not in STOP_TYPES]\n",
    "\n",
    "    for i in range(len(words) - 1):\n",
    "        bigrams.append(words[i])\n",
    "        bigrams.append(words[i] + \" \" + words[i+1])\n",
    "    bigrams.append(words[i+1])\n",
    "    \n",
    "    return bigrams"
   ]
  },
  {
   "cell_type": "code",
   "execution_count": 4,
   "metadata": {
    "collapsed": true
   },
   "outputs": [],
   "source": [
    "import nltk\n",
    "\n",
    "#Format Sentence Function\n",
    "def format_sentence(sentence):\n",
    "    return ({word: True for word in bigrams(sentence)})"
   ]
  },
  {
   "cell_type": "code",
   "execution_count": 5,
   "metadata": {},
   "outputs": [
    {
     "name": "stderr",
     "output_type": "stream",
     "text": [
      "/opt/anaconda/lib/python3.6/site-packages/ipykernel_launcher.py:6: SettingWithCopyWarning: \n",
      "A value is trying to be set on a copy of a slice from a DataFrame.\n",
      "Try using .loc[row_indexer,col_indexer] = value instead\n",
      "\n",
      "See the caveats in the documentation: http://pandas.pydata.org/pandas-docs/stable/indexing.html#indexing-view-versus-copy\n",
      "  \n"
     ]
    }
   ],
   "source": [
    "#Read data\n",
    "data = pd.read_csv('./Data/train.csv')\n",
    "test_data = pd.read_csv('./Data/test.csv')\n",
    "\n",
    "labeled_tweets = data[['text', 'airline_sentiment']]\n",
    "labeled_tweets['text'] = data.apply(lambda row: format_sentence(row['text']), axis=1)"
   ]
  },
  {
   "cell_type": "code",
   "execution_count": 6,
   "metadata": {
    "collapsed": true
   },
   "outputs": [],
   "source": [
    "data_as_list = [[row['text'], row['airline_sentiment']] for index, row in labeled_tweets.iterrows()]"
   ]
  },
  {
   "cell_type": "code",
   "execution_count": 7,
   "metadata": {},
   "outputs": [
    {
     "name": "stdout",
     "output_type": "stream",
     "text": [
      "Average accuracy: 0.8000379434642383\n",
      "Most Informative Features\n",
      "       exclamationcode : = True           positi : negati =     42.0 : 1.0\n",
      "     you exclamationcode = True           positi : negati =     38.2 : 1.0\n",
      "       americanair thank = True           positi : negati =     36.5 : 1.0\n",
      "      southwestair thank = True           positi : negati =     34.9 : 1.0\n",
      "                     - ) = True           positi : negati =     33.8 : 1.0\n",
      "    best exclamationcode = True           positi : negati =     33.8 : 1.0\n",
      "                 excited = True           positi : negati =     33.8 : 1.0\n",
      "           jetblue thank = True           positi : negati =     30.7 : 1.0\n",
      "                 on hold = True           negati : neutra =     30.3 : 1.0\n",
      "                 worries = True           positi : negati =     28.4 : 1.0\n",
      "            the response = True           positi : negati =     28.4 : 1.0\n",
      "              no worries = True           positi : negati =     28.4 : 1.0\n",
      "               beautiful = True           positi : negati =     28.4 : 1.0\n",
      "                   hours = True           negati : positi =     27.6 : 1.0\n",
      "                  you so = True           positi : negati =     26.8 : 1.0\n",
      "            best airline = True           positi : negati =     25.7 : 1.0\n",
      "                   can i = True           neutra : positi =     25.1 : 1.0\n",
      "  thanks exclamationcode = True           positi : negati =     24.6 : 1.0\n",
      "                     hrs = True           negati : neutra =     24.6 : 1.0\n",
      "                the best = True           positi : negati =     24.0 : 1.0\n",
      "               fantastic = True           positi : negati =     23.5 : 1.0\n",
      "               thank you = True           positi : negati =     23.2 : 1.0\n",
      "                passbook = True           positi : negati =     23.0 : 1.0\n",
      "                 been on = True           negati : neutra =     21.9 : 1.0\n",
      "                 awesome = True           positi : negati =     21.2 : 1.0\n",
      "                  street = True           neutra : negati =     20.8 : 1.0\n",
      "         passengers wall = True           neutra : negati =     20.8 : 1.0\n",
      "    done exclamationcode = True           positi : negati =     20.3 : 1.0\n",
      "             love flying = True           positi : negati =     20.3 : 1.0\n",
      "                   raise = True           positi : negati =     20.3 : 1.0\n",
      "                   thank = True           positi : negati =     20.0 : 1.0\n",
      "                 need to = True           neutra : positi =     19.8 : 1.0\n",
      "                  i love = True           positi : neutra =     19.6 : 1.0\n",
      "             wall street = True           neutra : negati =     18.8 : 1.0\n",
      "               united hi = True           neutra : negati =     18.8 : 1.0\n",
      "                     : ) = True           positi : negati =     18.7 : 1.0\n",
      "                     ; 3 = True           positi : negati =     17.6 : 1.0\n",
      "                  got me = True           positi : negati =     17.6 : 1.0\n",
      "                 keep up = True           positi : negati =     17.6 : 1.0\n",
      "     exclamationcode the = True           positi : negati =     17.6 : 1.0\n",
      "                  snacks = True           positi : negati =     17.6 : 1.0\n",
      "                     fan = True           positi : negati =     17.6 : 1.0\n",
      "           jetblue great = True           positi : negati =     17.6 : 1.0\n",
      "                  hope i = True           positi : negati =     17.6 : 1.0\n",
      "     southwestair thanks = True           positi : negati =     17.2 : 1.0\n",
      "                    rock = True           positi : negati =     17.1 : 1.0\n",
      "                street - = True           neutra : negati =     16.8 : 1.0\n",
      "     confirmation number = True           neutra : negati =     16.8 : 1.0\n",
      "         virginamerica @ = True           neutra : negati =     16.8 : 1.0\n",
      "               excellent = True           positi : negati =     16.8 : 1.0\n",
      "                 amazing = True           positi : negati =     16.5 : 1.0\n",
      "                  i need = True           neutra : positi =     16.4 : 1.0\n",
      "                  making = True           positi : neutra =     15.9 : 1.0\n",
      "  exclamationcode thanks = True           positi : negati =     15.8 : 1.0\n",
      "               the reply = True           positi : negati =     15.4 : 1.0\n",
      "                is there = True           neutra : positi =     15.4 : 1.0\n",
      "                 you for = True           positi : neutra =     15.3 : 1.0\n",
      "                   shout = True           positi : negati =     14.9 : 1.0\n",
      "                  loving = True           positi : negati =     14.9 : 1.0\n",
      "               shout out = True           positi : negati =     14.9 : 1.0\n",
      "      southwestair great = True           positi : negati =     14.9 : 1.0\n",
      "              getting me = True           positi : negati =     14.9 : 1.0\n",
      "               me please = True           positi : negati =     14.9 : 1.0\n",
      "                     hot = True           positi : negati =     14.9 : 1.0\n",
      "       pass questioncode = True           neutra : negati =     14.9 : 1.0\n",
      "      appease passengers = True           neutra : negati =     14.9 : 1.0\n",
      "                 appease = True           neutra : negati =     14.9 : 1.0\n",
      "              a question = True           neutra : negati =     14.9 : 1.0\n",
      "             dotcode now = True           negati : neutra =     14.5 : 1.0\n",
      "                  agents = True           negati : neutra =     14.5 : 1.0\n",
      "                  missed = True           negati : neutra =     14.5 : 1.0\n",
      "                 an hour = True           negati : neutra =     14.3 : 1.0\n",
      "                 helpful = True           positi : neutra =     14.1 : 1.0\n",
      "               thanks to = True           positi : neutra =     14.1 : 1.0\n",
      "      it exclamationcode = True           positi : neutra =     14.1 : 1.0\n",
      "               wonderful = True           positi : negati =     14.0 : 1.0\n",
      "                     ) # = True           positi : negati =     13.8 : 1.0\n",
      "                    haha = True           positi : negati =     13.8 : 1.0\n",
      "               very much = True           positi : negati =     13.8 : 1.0\n",
      "            united thank = True           positi : negati =     13.6 : 1.0\n",
      "     questioncode thanks = True           neutra : negati =     13.5 : 1.0\n",
      "                   great = True           positi : neutra =     13.4 : 1.0\n",
      "questioncode exclamationcode = True           negati : positi =     13.4 : 1.0\n",
      "   great exclamationcode = True           positi : negati =     13.3 : 1.0\n",
      "           dotcode thank = True           positi : negati =     13.3 : 1.0\n",
      "            great flight = True           positi : neutra =     13.2 : 1.0\n",
      "                 flightr = True           negati : positi =     12.9 : 1.0\n",
      "              battles to = True           neutra : negati =     12.9 : 1.0\n",
      "                    we ’ = True           neutra : negati =     12.9 : 1.0\n",
      "                 battles = True           neutra : negati =     12.9 : 1.0\n",
      "                 dragons = True           neutra : negati =     12.9 : 1.0\n",
      "                 when is = True           neutra : negati =     12.9 : 1.0\n",
      "                  i book = True           neutra : negati =     12.9 : 1.0\n",
      "                     won = True           neutra : negati =     12.9 : 1.0\n",
      "              jetblue do = True           neutra : negati =     12.9 : 1.0\n",
      "             ceo battles = True           neutra : negati =     12.9 : 1.0\n",
      "              to appease = True           neutra : negati =     12.9 : 1.0\n",
      "              thanks for = True           positi : neutra =     12.8 : 1.0\n",
      "                  had to = True           negati : positi =     12.7 : 1.0\n",
      "            late flightr = True           negati : positi =     12.6 : 1.0\n",
      "None\n"
     ]
    }
   ],
   "source": [
    "#Training and evaluating for several seeds\n",
    "\n",
    "random_seeds=[4,8,15,16,23,42]\n",
    "accuracies = []\n",
    "for seed in random_seeds:\n",
    "    rnd = np.random.RandomState(seed)\n",
    "    indices = rnd.permutation(len(data_as_list))\n",
    "    \n",
    "    training_idx, test_idx = indices[:int(0.8 *len(indices))], indices[int(0.8 *len(indices)):]\n",
    "    training = [data_as_list[i] for i in training_idx]\n",
    "    test = [data_as_list[i] for i in test_idx]\n",
    "    \n",
    "    classifier = NaiveBayesClassifier.train(training)\n",
    "    accuracies.append(accuracy(classifier, test))\n",
    "    \n",
    "print(\"Average accuracy:\", sum(accuracies)/len(accuracies))\n",
    "\n",
    "print(classifier.show_most_informative_features(100))"
   ]
  },
  {
   "cell_type": "code",
   "execution_count": null,
   "metadata": {
    "collapsed": true
   },
   "outputs": [],
   "source": []
  },
  {
   "cell_type": "raw",
   "metadata": {},
   "source": [
    "A pelo -> 0.784\n",
    "w ecl/queCode -> 0.793 \n",
    "w ecl/queCode w # -> 0.792\n",
    "w ecl/queCode no CC AT stopwords -> 0.803 -------------------------------------\n",
    "w ecl/que/dotCode no CC AT stopwords -> 0.800\n",
    "no ecl/que -> 0.789\n",
    "no mentions -> 0.774\n",
    "anonymous mentions -> 0.783\n",
    "w hasEcl/Que -> 0.786\n",
    "no stopwords -> 0.77"
   ]
  },
  {
   "cell_type": "code",
   "execution_count": null,
   "metadata": {
    "collapsed": true
   },
   "outputs": [],
   "source": [
    "#Training for final upload\n",
    "classifier = NaiveBayesClassifier.train(data_as_list)"
   ]
  },
  {
   "cell_type": "code",
   "execution_count": null,
   "metadata": {
    "collapsed": true
   },
   "outputs": [],
   "source": [
    "#Writing to upload file. Change file name at will (next is 4th upload)\n",
    "f = open('./Data/upload4.csv', 'w')\n",
    "f.write('Id,Prediction\\n')\n",
    "for index, row in test_data.iterrows():\n",
    "    f.write(str(row['Id']) + \",\" + classifier.classify(format_sentence(row['text'])) + '\\n')\n",
    "f.close()\n",
    "            "
   ]
  },
  {
   "cell_type": "code",
   "execution_count": null,
   "metadata": {
    "collapsed": true
   },
   "outputs": [],
   "source": []
  }
 ],
 "metadata": {
  "kernelspec": {
   "display_name": "Python 3",
   "language": "python",
   "name": "python3"
  },
  "language_info": {
   "codemirror_mode": {
    "name": "ipython",
    "version": 3
   },
   "file_extension": ".py",
   "mimetype": "text/x-python",
   "name": "python",
   "nbconvert_exporter": "python",
   "pygments_lexer": "ipython3",
   "version": "3.6.1"
  }
 },
 "nbformat": 4,
 "nbformat_minor": 2
}
